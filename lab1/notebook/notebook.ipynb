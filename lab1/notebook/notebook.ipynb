{
 "cells": [
  {
   "cell_type": "markdown",
   "metadata": {},
   "source": [
    "##### Title: Monitoring how RTT varies based on the geolocation of the target\n",
    "##### Author: Lotito Davide Pio\n",
    "##### Date: \n",
    "<img src=\"./images/logoUnipvST.jpg\" width=\"75\" height=\"75\">"
   ]
  },
  {
   "cell_type": "markdown",
   "metadata": {},
   "source": [
    "Some useful imports"
   ]
  },
  {
   "cell_type": "code",
   "execution_count": 5,
   "metadata": {},
   "outputs": [],
   "source": [
    "\n",
    "from matplotlib import pyplot as plt\n",
    "import pandas as pd"
   ]
  },
  {
   "cell_type": "markdown",
   "metadata": {},
   "source": [
    "Read the file "
   ]
  },
  {
   "cell_type": "code",
   "execution_count": 8,
   "metadata": {},
   "outputs": [
    {
     "data": {
      "text/html": [
       "<div>\n",
       "<style scoped>\n",
       "    .dataframe tbody tr th:only-of-type {\n",
       "        vertical-align: middle;\n",
       "    }\n",
       "\n",
       "    .dataframe tbody tr th {\n",
       "        vertical-align: top;\n",
       "    }\n",
       "\n",
       "    .dataframe thead th {\n",
       "        text-align: right;\n",
       "    }\n",
       "</style>\n",
       "<table border=\"1\" class=\"dataframe\">\n",
       "  <thead>\n",
       "    <tr style=\"text-align: right;\">\n",
       "      <th></th>\n",
       "      <th>destination</th>\n",
       "      <th>date</th>\n",
       "      <th>time</th>\n",
       "      <th>packetLost</th>\n",
       "      <th>excutionTime</th>\n",
       "      <th>minRTT</th>\n",
       "      <th>avgRTT</th>\n",
       "      <th>maxRTT</th>\n",
       "      <th>devRTT</th>\n",
       "    </tr>\n",
       "  </thead>\n",
       "  <tbody>\n",
       "    <tr>\n",
       "      <th>0</th>\n",
       "      <td>142.251.209.14</td>\n",
       "      <td>2022-04-10</td>\n",
       "      <td>08:28:28</td>\n",
       "      <td>0%</td>\n",
       "      <td>9012ms</td>\n",
       "      <td>12.323</td>\n",
       "      <td>15.037</td>\n",
       "      <td>23.502</td>\n",
       "      <td>3.502</td>\n",
       "    </tr>\n",
       "    <tr>\n",
       "      <th>1</th>\n",
       "      <td>31.13.86.36</td>\n",
       "      <td>2022-04-10</td>\n",
       "      <td>08:28:28</td>\n",
       "      <td>0%</td>\n",
       "      <td>9012ms</td>\n",
       "      <td>11.742</td>\n",
       "      <td>14.680</td>\n",
       "      <td>21.308</td>\n",
       "      <td>3.298</td>\n",
       "    </tr>\n",
       "    <tr>\n",
       "      <th>2</th>\n",
       "      <td>140.82.121.4</td>\n",
       "      <td>2022-04-10</td>\n",
       "      <td>08:28:28</td>\n",
       "      <td>0%</td>\n",
       "      <td>9014ms</td>\n",
       "      <td>20.891</td>\n",
       "      <td>22.026</td>\n",
       "      <td>24.049</td>\n",
       "      <td>0.977</td>\n",
       "    </tr>\n",
       "    <tr>\n",
       "      <th>3</th>\n",
       "      <td>13.107.42.14</td>\n",
       "      <td>2022-04-10</td>\n",
       "      <td>08:28:28</td>\n",
       "      <td>0%</td>\n",
       "      <td>9013ms</td>\n",
       "      <td>12.079</td>\n",
       "      <td>14.373</td>\n",
       "      <td>24.648</td>\n",
       "      <td>3.552</td>\n",
       "    </tr>\n",
       "  </tbody>\n",
       "</table>\n",
       "</div>"
      ],
      "text/plain": [
       "      destination       date      time packetLost excutionTime  minRTT  \\\n",
       "0  142.251.209.14 2022-04-10  08:28:28         0%       9012ms  12.323   \n",
       "1     31.13.86.36 2022-04-10  08:28:28         0%       9012ms  11.742   \n",
       "2    140.82.121.4 2022-04-10  08:28:28         0%       9014ms  20.891   \n",
       "3    13.107.42.14 2022-04-10  08:28:28         0%       9013ms  12.079   \n",
       "\n",
       "   avgRTT  maxRTT  devRTT  \n",
       "0  15.037  23.502   3.502  \n",
       "1  14.680  21.308   3.298  \n",
       "2  22.026  24.049   0.977  \n",
       "3  14.373  24.648   3.552  "
      ]
     },
     "execution_count": 8,
     "metadata": {},
     "output_type": "execute_result"
    }
   ],
   "source": [
    "df = pd.read_json(\"../sample.txt\")\n",
    "df"
   ]
  }
 ],
 "metadata": {
  "interpreter": {
   "hash": "916dbcbb3f70747c44a77c7bcd40155683ae19c65e1c03b4aa3499c5328201f1"
  },
  "kernelspec": {
   "display_name": "Python 3.8.10 64-bit",
   "language": "python",
   "name": "python3"
  },
  "language_info": {
   "codemirror_mode": {
    "name": "ipython",
    "version": 3
   },
   "file_extension": ".py",
   "mimetype": "text/x-python",
   "name": "python",
   "nbconvert_exporter": "python",
   "pygments_lexer": "ipython3",
   "version": "3.8.10"
  },
  "orig_nbformat": 4
 },
 "nbformat": 4,
 "nbformat_minor": 2
}
