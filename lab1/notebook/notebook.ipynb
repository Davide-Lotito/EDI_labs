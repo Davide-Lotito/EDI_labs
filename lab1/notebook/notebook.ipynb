{
 "cells": [
  {
   "cell_type": "markdown",
   "metadata": {},
   "source": [
    "##### Title: Monitoring how RTT varies based on the geolocation of the target\n",
    "##### Author: Lotito Davide Pio\n",
    "##### Date: \n",
    "<img src=\"./images/logoUnipvST.jpg\" width=\"75\" height=\"75\">"
   ]
  },
  {
   "cell_type": "markdown",
   "metadata": {},
   "source": [
    "## Some useful imports"
   ]
  },
  {
   "cell_type": "code",
   "execution_count": 10,
   "metadata": {},
   "outputs": [],
   "source": [
    "from matplotlib import pyplot as plt\n",
    "import pandas as pd\n",
    "import geopandas as gpd\n",
    "from shapely.geometry import Point"
   ]
  },
  {
   "cell_type": "markdown",
   "metadata": {},
   "source": [
    "## Read the file "
   ]
  },
  {
   "cell_type": "code",
   "execution_count": 11,
   "metadata": {},
   "outputs": [
    {
     "data": {
      "text/html": [
       "<div>\n",
       "<style scoped>\n",
       "    .dataframe tbody tr th:only-of-type {\n",
       "        vertical-align: middle;\n",
       "    }\n",
       "\n",
       "    .dataframe tbody tr th {\n",
       "        vertical-align: top;\n",
       "    }\n",
       "\n",
       "    .dataframe thead th {\n",
       "        text-align: right;\n",
       "    }\n",
       "</style>\n",
       "<table border=\"1\" class=\"dataframe\">\n",
       "  <thead>\n",
       "    <tr style=\"text-align: right;\">\n",
       "      <th></th>\n",
       "      <th>destination</th>\n",
       "      <th>date</th>\n",
       "      <th>time</th>\n",
       "      <th>packetLost</th>\n",
       "      <th>excutionTime</th>\n",
       "      <th>minRTT</th>\n",
       "      <th>avgRTT</th>\n",
       "      <th>maxRTT</th>\n",
       "      <th>devRTT</th>\n",
       "    </tr>\n",
       "  </thead>\n",
       "  <tbody>\n",
       "    <tr>\n",
       "      <th>0</th>\n",
       "      <td>142.251.209.14</td>\n",
       "      <td>2022-04-10</td>\n",
       "      <td>08:28:28</td>\n",
       "      <td>0%</td>\n",
       "      <td>9012ms</td>\n",
       "      <td>12.323</td>\n",
       "      <td>15.037</td>\n",
       "      <td>23.502</td>\n",
       "      <td>3.502</td>\n",
       "    </tr>\n",
       "    <tr>\n",
       "      <th>1</th>\n",
       "      <td>31.13.86.36</td>\n",
       "      <td>2022-04-10</td>\n",
       "      <td>08:28:28</td>\n",
       "      <td>0%</td>\n",
       "      <td>9012ms</td>\n",
       "      <td>11.742</td>\n",
       "      <td>14.680</td>\n",
       "      <td>21.308</td>\n",
       "      <td>3.298</td>\n",
       "    </tr>\n",
       "    <tr>\n",
       "      <th>2</th>\n",
       "      <td>140.82.121.4</td>\n",
       "      <td>2022-04-10</td>\n",
       "      <td>08:28:28</td>\n",
       "      <td>0%</td>\n",
       "      <td>9014ms</td>\n",
       "      <td>20.891</td>\n",
       "      <td>22.026</td>\n",
       "      <td>24.049</td>\n",
       "      <td>0.977</td>\n",
       "    </tr>\n",
       "    <tr>\n",
       "      <th>3</th>\n",
       "      <td>13.107.42.14</td>\n",
       "      <td>2022-04-10</td>\n",
       "      <td>08:28:28</td>\n",
       "      <td>0%</td>\n",
       "      <td>9013ms</td>\n",
       "      <td>12.079</td>\n",
       "      <td>14.373</td>\n",
       "      <td>24.648</td>\n",
       "      <td>3.552</td>\n",
       "    </tr>\n",
       "  </tbody>\n",
       "</table>\n",
       "</div>"
      ],
      "text/plain": [
       "      destination       date      time packetLost excutionTime  minRTT  \\\n",
       "0  142.251.209.14 2022-04-10  08:28:28         0%       9012ms  12.323   \n",
       "1     31.13.86.36 2022-04-10  08:28:28         0%       9012ms  11.742   \n",
       "2    140.82.121.4 2022-04-10  08:28:28         0%       9014ms  20.891   \n",
       "3    13.107.42.14 2022-04-10  08:28:28         0%       9013ms  12.079   \n",
       "\n",
       "   avgRTT  maxRTT  devRTT  \n",
       "0  15.037  23.502   3.502  \n",
       "1  14.680  21.308   3.298  \n",
       "2  22.026  24.049   0.977  \n",
       "3  14.373  24.648   3.552  "
      ]
     },
     "execution_count": 11,
     "metadata": {},
     "output_type": "execute_result"
    }
   ],
   "source": [
    "df = pd.read_json(\"../sample.txt\")\n",
    "df"
   ]
  },
  {
   "cell_type": "markdown",
   "metadata": {},
   "source": [
    "## Sort in ascending order by RTT"
   ]
  },
  {
   "cell_type": "code",
   "execution_count": 12,
   "metadata": {},
   "outputs": [
    {
     "data": {
      "text/html": [
       "<div>\n",
       "<style scoped>\n",
       "    .dataframe tbody tr th:only-of-type {\n",
       "        vertical-align: middle;\n",
       "    }\n",
       "\n",
       "    .dataframe tbody tr th {\n",
       "        vertical-align: top;\n",
       "    }\n",
       "\n",
       "    .dataframe thead th {\n",
       "        text-align: right;\n",
       "    }\n",
       "</style>\n",
       "<table border=\"1\" class=\"dataframe\">\n",
       "  <thead>\n",
       "    <tr style=\"text-align: right;\">\n",
       "      <th></th>\n",
       "      <th>destination</th>\n",
       "      <th>date</th>\n",
       "      <th>time</th>\n",
       "      <th>packetLost</th>\n",
       "      <th>excutionTime</th>\n",
       "      <th>minRTT</th>\n",
       "      <th>avgRTT</th>\n",
       "      <th>maxRTT</th>\n",
       "      <th>devRTT</th>\n",
       "    </tr>\n",
       "  </thead>\n",
       "  <tbody>\n",
       "    <tr>\n",
       "      <th>3</th>\n",
       "      <td>13.107.42.14</td>\n",
       "      <td>2022-04-10</td>\n",
       "      <td>08:28:28</td>\n",
       "      <td>0%</td>\n",
       "      <td>9013ms</td>\n",
       "      <td>12.079</td>\n",
       "      <td>14.373</td>\n",
       "      <td>24.648</td>\n",
       "      <td>3.552</td>\n",
       "    </tr>\n",
       "    <tr>\n",
       "      <th>1</th>\n",
       "      <td>31.13.86.36</td>\n",
       "      <td>2022-04-10</td>\n",
       "      <td>08:28:28</td>\n",
       "      <td>0%</td>\n",
       "      <td>9012ms</td>\n",
       "      <td>11.742</td>\n",
       "      <td>14.680</td>\n",
       "      <td>21.308</td>\n",
       "      <td>3.298</td>\n",
       "    </tr>\n",
       "    <tr>\n",
       "      <th>0</th>\n",
       "      <td>142.251.209.14</td>\n",
       "      <td>2022-04-10</td>\n",
       "      <td>08:28:28</td>\n",
       "      <td>0%</td>\n",
       "      <td>9012ms</td>\n",
       "      <td>12.323</td>\n",
       "      <td>15.037</td>\n",
       "      <td>23.502</td>\n",
       "      <td>3.502</td>\n",
       "    </tr>\n",
       "    <tr>\n",
       "      <th>2</th>\n",
       "      <td>140.82.121.4</td>\n",
       "      <td>2022-04-10</td>\n",
       "      <td>08:28:28</td>\n",
       "      <td>0%</td>\n",
       "      <td>9014ms</td>\n",
       "      <td>20.891</td>\n",
       "      <td>22.026</td>\n",
       "      <td>24.049</td>\n",
       "      <td>0.977</td>\n",
       "    </tr>\n",
       "  </tbody>\n",
       "</table>\n",
       "</div>"
      ],
      "text/plain": [
       "      destination       date      time packetLost excutionTime  minRTT  \\\n",
       "3    13.107.42.14 2022-04-10  08:28:28         0%       9013ms  12.079   \n",
       "1     31.13.86.36 2022-04-10  08:28:28         0%       9012ms  11.742   \n",
       "0  142.251.209.14 2022-04-10  08:28:28         0%       9012ms  12.323   \n",
       "2    140.82.121.4 2022-04-10  08:28:28         0%       9014ms  20.891   \n",
       "\n",
       "   avgRTT  maxRTT  devRTT  \n",
       "3  14.373  24.648   3.552  \n",
       "1  14.680  21.308   3.298  \n",
       "0  15.037  23.502   3.502  \n",
       "2  22.026  24.049   0.977  "
      ]
     },
     "execution_count": 12,
     "metadata": {},
     "output_type": "execute_result"
    }
   ],
   "source": [
    "df.sort_values('avgRTT')"
   ]
  },
  {
   "cell_type": "markdown",
   "metadata": {},
   "source": [
    "## Coordinate degli IP"
   ]
  },
  {
   "cell_type": "code",
   "execution_count": null,
   "metadata": {},
   "outputs": [],
   "source": []
  },
  {
   "cell_type": "markdown",
   "metadata": {},
   "source": [
    "## Lavorare sulla mappa"
   ]
  },
  {
   "cell_type": "code",
   "execution_count": 13,
   "metadata": {},
   "outputs": [
    {
     "data": {
      "text/plain": [
       "<AxesSubplot:>"
      ]
     },
     "execution_count": 13,
     "metadata": {},
     "output_type": "execute_result"
    },
    {
     "data": {
      "image/png": "[encoded data removed]",
      "text/plain": [
       "<Figure size 432x288 with 1 Axes>"
      ]
     },
     "metadata": {
      "needs_background": "light"
     },
     "output_type": "display_data"
    }
   ],
   "source": [
    "# carico mappa del mondo già inclusa in file di geopandas\n",
    "world = gpd.read_file(gpd.datasets.get_path('naturalearth_lowres'))\n",
    "\n",
    "# creo \"lista\" di punti\n",
    "points = gpd.GeoDataFrame()\n",
    "# punto = Point(longitudine, latitudine)\n",
    "points[\"geometry\"] = gpd.GeoSeries([Point(12, 41), Point(30, 100)])\n",
    "\n",
    "# plotto mappa e punti sopra la medesima\n",
    "ax = world.plot()\n",
    "points.plot(color=\"k\", ax=ax)"
   ]
  }
 ],
 "metadata": {
  "interpreter": {
   "hash": "916dbcbb3f70747c44a77c7bcd40155683ae19c65e1c03b4aa3499c5328201f1"
  },
  "kernelspec": {
   "display_name": "Python 3 (ipykernel)",
   "language": "python",
   "name": "python3"
  },
  "language_info": {
   "codemirror_mode": {
    "name": "ipython",
    "version": 3
   },
   "file_extension": ".py",
   "mimetype": "text/x-python",
   "name": "python",
   "nbconvert_exporter": "python",
   "pygments_lexer": "ipython3",
   "version": "3.8.10"
  }
 },
 "nbformat": 4,
 "nbformat_minor": 2
}
